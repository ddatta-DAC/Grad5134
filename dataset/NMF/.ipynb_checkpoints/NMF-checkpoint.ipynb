{
 "cells": [
  {
   "cell_type": "code",
   "execution_count": 1,
   "metadata": {
    "collapsed": true
   },
   "outputs": [],
   "source": [
    "import re\n",
    "import numpy as np\n",
    "from numpy.linalg import norm\n",
    "import matplotlib.pyplot as plt\n",
    "%matplotlib inline\n",
    "\n",
    "np.random.seed(0)"
   ]
  },
  {
   "cell_type": "markdown",
   "metadata": {},
   "source": [
    "## NMF model"
   ]
  },
  {
   "cell_type": "code",
   "execution_count": 2,
   "metadata": {
    "collapsed": true
   },
   "outputs": [],
   "source": [
    "class NMF(object):\n",
    "    def __init__(\n",
    "        self, \n",
    "        A, IW=[], IH=[],\n",
    "        n_topic=10, max_iter=1000, max_err=1e-3,\n",
    "        rand_init=True):\n",
    "        '''\n",
    "        A = WH^T\n",
    "        '''\n",
    "        self.A = A\n",
    "        self.n_row = A.shape[0]\n",
    "        self.n_col = A.shape[1]\n",
    "        \n",
    "        self.n_topic = n_topic\n",
    "        self.max_iter = max_iter\n",
    "        self.max_err = max_err\n",
    "\n",
    "        self.obj = []\n",
    "        if rand_init:\n",
    "            self.nmf_init_rand()\n",
    "        else:\n",
    "            self.nmf_init(IW, IH)\n",
    "        self.nmf_iter()\n",
    "\n",
    "    def get_lowrank_matrix(self):\n",
    "        return self.W, self.H\n",
    "    \n",
    "    def save_format(self, Wfile='W.txt', Hfile='H.txt'):\n",
    "        np.savetxt(Wfile, self.W)\n",
    "        np.savetxt(Hfile, self.H)\n",
    "\n",
    "    def nmf_init_rand(self):\n",
    "        self.W = np.random.random((self.n_row, self.n_topic))\n",
    "        self.H = np.random.random((self.n_col, self.n_topic))\n",
    "\n",
    "        for k in range(self.n_topic):\n",
    "            self.W[:,k] /= norm(self.W[:,k])\n",
    "                \n",
    "    def nmf_init(self, IW, IH):\n",
    "        self.W = IW\n",
    "        self.H = IH\n",
    "\n",
    "        for k in range(self.n_topic):\n",
    "            self.W[:,k] /= norm(self.W[:,k])\n",
    "\n",
    "    def nmf_iter(self):\n",
    "        loss_old = 1e20\n",
    "        print 'loop begin'\n",
    "        for i in range(self.max_iter):\n",
    "            self.nmf_solver()\n",
    "            loss = self.nmf_loss()\n",
    "            self.obj.append(loss)\n",
    "\n",
    "            if loss_old-loss < self.max_err:\n",
    "                break\n",
    "            loss_old = loss\n",
    "            print str(i), str(loss)\n",
    "        print 'loop end'\n",
    "                \n",
    "    def nmf_solver(self):\n",
    "        '''\n",
    "        regular NMF without constraint.\n",
    "        Block Coordinate Decent\n",
    "        '''\n",
    "        epss = 1e-20\n",
    "        \n",
    "        HtH = self.H.T.dot(self.H)\n",
    "        AH = self.A.dot(self.H)\n",
    "        for k in range(self.n_topic):\n",
    "            tmpW = self.W[:,k]*HtH[k,k] + AH[:,k] - np.dot(self.W, HtH[:,k])\n",
    "            self.W[:,k] = np.maximum(tmpW, epss)\n",
    "            self.W[:,k] /= norm(self.W[:,k]) + epss\n",
    "        \n",
    "        WtW = self.W.T.dot(self.W)\n",
    "        AtW = self.A.T.dot(self.W)\n",
    "        for k in range(self.n_topic):\n",
    "            self.H[:,k] = self.H[:,k]*WtW[k,k] + AtW[:,k] - np.dot(self.H, WtW[:,k])\n",
    "            self.H[:,k] = np.maximum(self.H[:,k], epss)\n",
    "\n",
    "    def nmf_loss(self):\n",
    "        loss = norm(self.A - np.dot(self.W, np.transpose(self.H)), 'fro')**2/2.0\n",
    "        return loss\n",
    "    \n",
    "    def get_loss(self):\n",
    "        return np.array(self.obj)"
   ]
  },
  {
   "cell_type": "markdown",
   "metadata": {},
   "source": [
    "## Read Data"
   ]
  },
  {
   "cell_type": "code",
   "execution_count": 3,
   "metadata": {},
   "outputs": [
    {
     "name": "stdout",
     "output_type": "stream",
     "text": [
      "uid,lid,_id\n",
      "\n",
      "5797 5157 63481\n"
     ]
    }
   ],
   "source": [
    "rate = []\n",
    "usr = {}\n",
    "itm = {}\n",
    "fp = open('../data/ratings.csv', 'r')\n",
    "for line in fp:\n",
    "    print line\n",
    "    break\n",
    "for line in fp:\n",
    "    arr = re.split(',', line[:-1])\n",
    "    usr[arr[0]] = 0\n",
    "    itm[arr[1]] = 0\n",
    "    rate.append([int(arr[0]), int(arr[1])])\n",
    "fp.close()\n",
    "n_usr = len(usr)\n",
    "n_itm = len(itm)\n",
    "print len(usr), len(itm), len(rate)"
   ]
  },
  {
   "cell_type": "markdown",
   "metadata": {},
   "source": [
    "## Training"
   ]
  },
  {
   "cell_type": "code",
   "execution_count": 7,
   "metadata": {},
   "outputs": [
    {
     "name": "stdout",
     "output_type": "stream",
     "text": [
      "loop begin\n",
      "0 31404.1178667\n",
      "1 30392.1690026\n",
      "2 29818.4144493\n",
      "3 29698.3639482\n",
      "4 29632.0440508\n",
      "5 29582.1414939\n",
      "6 29542.9919433\n",
      "7 29512.586543\n",
      "8 29490.5039155\n",
      "9 29475.842233\n",
      "10 29465.1912338\n",
      "11 29455.7785957\n",
      "12 29446.1003573\n",
      "13 29436.2968686\n",
      "14 29426.9076391\n",
      "15 29417.9180408\n",
      "16 29409.4075027\n",
      "17 29401.5990089\n",
      "18 29395.0807979\n",
      "19 29390.236319\n",
      "20 29386.9780431\n",
      "21 29384.8207628\n",
      "22 29383.2563797\n",
      "23 29381.9431674\n",
      "24 29380.7251633\n",
      "25 29379.5462742\n",
      "26 29378.3998634\n",
      "27 29377.3101853\n",
      "28 29376.3234876\n",
      "29 29375.4831586\n",
      "30 29374.8030078\n",
      "31 29374.2734389\n",
      "32 29373.871349\n",
      "33 29373.583714\n",
      "34 29373.391324\n",
      "35 29373.2614716\n",
      "36 29373.173944\n",
      "37 29373.1152422\n",
      "38 29373.0778185\n",
      "39 29373.0531238\n",
      "40 29373.0364522\n",
      "41 29373.0251141\n",
      "42 29373.0173692\n",
      "43 29373.0120613\n",
      "44 29373.0084082\n",
      "45 29373.0058886\n",
      "46 29373.004147\n",
      "47 29373.0029411\n",
      "loop end\n"
     ]
    },
    {
     "data": {
      "text/plain": [
       "Text(0,0.5,u'loss')"
      ]
     },
     "execution_count": 7,
     "metadata": {},
     "output_type": "execute_result"
    },
    {
     "data": {
      "image/png": "[encoded data removed]",
      "text/plain": [
       "<matplotlib.figure.Figure at 0x9376a58>"
      ]
     },
     "metadata": {},
     "output_type": "display_data"
    }
   ],
   "source": [
    "rate_mat = np.zeros([n_usr, n_itm])\n",
    "for k in rate:\n",
    "    rate_mat[k[0]-1, k[1]-1] = 1.0\n",
    "model = NMF(rate_mat, n_topic=10, max_iter=1000, max_err=1e-3)\n",
    "loss_ = model.get_loss()\n",
    "plt.plot(loss_)\n",
    "plt.xlabel('step')\n",
    "plt.ylabel('loss')"
   ]
  },
  {
   "cell_type": "code",
   "execution_count": 8,
   "metadata": {
    "collapsed": true
   },
   "outputs": [],
   "source": [
    "model.save_format()"
   ]
  },
  {
   "cell_type": "code",
   "execution_count": null,
   "metadata": {
    "collapsed": true
   },
   "outputs": [],
   "source": []
  }
 ],
 "metadata": {
  "kernelspec": {
   "display_name": "Python 2",
   "language": "python",
   "name": "python2"
  },
  "language_info": {
   "codemirror_mode": {
    "name": "ipython",
    "version": 2
   },
   "file_extension": ".py",
   "mimetype": "text/x-python",
   "name": "python",
   "nbconvert_exporter": "python",
   "pygments_lexer": "ipython2",
   "version": "2.7.13"
  }
 },
 "nbformat": 4,
 "nbformat_minor": 2
}
