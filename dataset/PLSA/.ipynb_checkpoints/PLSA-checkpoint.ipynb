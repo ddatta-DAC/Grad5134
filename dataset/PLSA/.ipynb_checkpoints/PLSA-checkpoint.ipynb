{
 "cells": [
  {
   "cell_type": "code",
   "execution_count": 1,
   "metadata": {
    "collapsed": true
   },
   "outputs": [],
   "source": [
    "import re\n",
    "import numpy as np\n",
    "from numpy.linalg import norm\n",
    "import matplotlib.pyplot as plt\n",
    "%matplotlib inline\n",
    "\n",
    "np.random.seed(0)"
   ]
  },
  {
   "cell_type": "markdown",
   "metadata": {},
   "source": [
    "## PLSA model"
   ]
  },
  {
   "cell_type": "code",
   "execution_count": 2,
   "metadata": {},
   "outputs": [],
   "source": [
    "class PlsaRecc(object):\n",
    "    '''\n",
    "    PLSA with EM algorithm\n",
    "    '''\n",
    "    def __init__(self, n_topic, rate_mat):\n",
    "        '''\n",
    "        Constructor\n",
    "        z represent latent variable\n",
    "        p_u_i = P(i|u)\n",
    "        p_u_z = p(z|u)\n",
    "        p_z_i = p(i|z)\n",
    "        p_ui_z = p(z|u,i)\n",
    "        '''\n",
    "        self.usr_itm_mat = rate_mat\n",
    "        self.n_usr = self.usr_itm_mat.shape[0]\n",
    "        self.n_itm = self.usr_itm_mat.shape[1]\n",
    "        self.n_topic = n_topic\n",
    "\n",
    "        self.prb_u_z = np.zeros([self.n_usr, self.n_topic], dtype = np.float)\n",
    "        self.prb_z_i = np.zeros([self.n_topic, self.n_itm], dtype = np.float)\n",
    "        self.prb_ui_z = np.zeros([self.n_usr, self.n_itm, self.n_topic], dtype = np.float)\n",
    "        self.prb_u_i = np.zeros([self.n_usr, self.n_itm], dtype = np.float)\n",
    "        # randomly initialize parameters\n",
    "        self.init_random_para()\n",
    "        \n",
    "    def init_random_para(self):\n",
    "        # randomly initialize parameters\n",
    "        self.prb_u_z = np.random.random(size=(self.n_usr, self.n_topic))\n",
    "        self.prb_z_i = np.random.random(size=(self.n_topic, self.n_itm))\n",
    "        \n",
    "    def run_em(self, max_iter=200, norm_check=False):\n",
    "        print 'Begin EM Algorithm'\n",
    "        for stp in range(max_iter):\n",
    "            print 'Iteration ' + str(stp+1)\n",
    "            print 'Begin E step'\n",
    "            # calculate p(z|u,i), normalized\n",
    "            norm_arr = np.zeros([self.n_usr, self.n_itm], dtype = np.float)\n",
    "            for k in range(self.n_topic):\n",
    "                self.prb_ui_z[:,:,k]=self.prb_u_z[:,k][:,None]*self.prb_z_i[k,:]\n",
    "                norm_arr += self.prb_ui_z[:,:,k]\n",
    "            # normalize\n",
    "            if norm_check:\n",
    "                print 'Check normalize constants are non-zero'\n",
    "                norm_arr[norm_arr==0.0] = 1.0\n",
    "            for k in range(self.n_topic):\n",
    "                self.prb_ui_z[:,:,k] = np.divide(self.prb_ui_z[:,:,k], norm_arr)\n",
    "            print 'E step done'\n",
    "            print 'Begin M step'\n",
    "            # calculate p(i|z), normalized\n",
    "            for i in range(self.n_usr):\n",
    "                self.prb_z_i += self.prb_ui_z[i,:,:].transpose()*self.usr_itm_mat[i,:]\n",
    "            norm_arr = np.zeros(self.n_topic)\n",
    "            for j in range(self.n_itm):\n",
    "                norm_arr += self.prb_z_i[:,j]\n",
    "            for j in range(self.n_itm):\n",
    "                self.prb_z_i[:,j] = np.divide(self.prb_z_i[:,j], norm_arr)\n",
    "            #print np.sum(self.prb_z_i)\n",
    "            # calculate p(z|u), normalized\n",
    "            for j in range(self.n_itm):\n",
    "                self.prb_u_z += self.usr_itm_mat[:,j][:,None]*self.prb_ui_z[:,j,:]\n",
    "            norm_arr = np.zeros(self.n_usr)\n",
    "            for k in range(self.n_topic):\n",
    "                norm_arr += self.prb_u_z[:,k]\n",
    "            for k in range(self.n_topic):\n",
    "                self.prb_u_z[:,k] = np.divide(self.prb_u_z[:,k], norm_arr)\n",
    "            #print np.sum(self.prb_u_z)\n",
    "            print np.sum(self.prb_u_z), np.sum(self.prb_z_i), np.sum(self.prb_ui_z)\n",
    "            print 'M step done'\n",
    "            \n",
    "    def cal_recc_score(self):\n",
    "        print 'Calculate recommendation scores'\n",
    "        '''\n",
    "        print self.prb_z_i.shape\n",
    "        print self.prb_u_z.shape\n",
    "        calculate p(i|u)\n",
    "        '''\n",
    "        self.prb_u_i = np.dot(self.prb_u_z, self.prb_z_i)\n",
    "        return self.prb_u_i\n",
    "    \n",
    "    def save_format(self):\n",
    "        np.save('mat_u_z', self.prb_u_z)\n",
    "        np.save('mat_z_i', self.prb_z_i)"
   ]
  },
  {
   "cell_type": "markdown",
   "metadata": {},
   "source": [
    "## Read Data"
   ]
  },
  {
   "cell_type": "code",
   "execution_count": 3,
   "metadata": {},
   "outputs": [
    {
     "name": "stdout",
     "output_type": "stream",
     "text": [
      "uid,lid,_id\n",
      "\n",
      "5797 5157 63481\n"
     ]
    }
   ],
   "source": [
    "rate = []\n",
    "usr = {}\n",
    "itm = {}\n",
    "fp = open('../data/ratings.csv', 'r')\n",
    "for line in fp:\n",
    "    print line\n",
    "    break\n",
    "for line in fp:\n",
    "    arr = re.split(',', line[:-1])\n",
    "    usr[arr[0]] = 0\n",
    "    itm[arr[1]] = 0\n",
    "    rate.append([int(arr[0]), int(arr[1])])\n",
    "fp.close()\n",
    "n_usr = len(usr)\n",
    "n_itm = len(itm)\n",
    "print len(usr), len(itm), len(rate)"
   ]
  },
  {
   "cell_type": "markdown",
   "metadata": {},
   "source": [
    "## Training"
   ]
  },
  {
   "cell_type": "code",
   "execution_count": null,
   "metadata": {},
   "outputs": [
    {
     "name": "stdout",
     "output_type": "stream",
     "text": [
      "Begin EM Algorithm\n",
      "Iteration 1\n",
      "Begin E step\n"
     ]
    }
   ],
   "source": [
    "rate_mat = np.zeros([n_usr, n_itm])\n",
    "for k in rate:\n",
    "    rate_mat[k[0]-1, k[1]-1] = 1.0\n",
    "model = PlsaRecc(10, rate_mat)\n",
    "model.run_em(20, True)"
   ]
  },
  {
   "cell_type": "code",
   "execution_count": null,
   "metadata": {
    "collapsed": true
   },
   "outputs": [],
   "source": [
    "model.save_format()"
   ]
  },
  {
   "cell_type": "code",
   "execution_count": null,
   "metadata": {
    "collapsed": true
   },
   "outputs": [],
   "source": []
  }
 ],
 "metadata": {
  "kernelspec": {
   "display_name": "Python 2",
   "language": "python",
   "name": "python2"
  },
  "language_info": {
   "codemirror_mode": {
    "name": "ipython",
    "version": 2
   },
   "file_extension": ".py",
   "mimetype": "text/x-python",
   "name": "python",
   "nbconvert_exporter": "python",
   "pygments_lexer": "ipython2",
   "version": "2.7.13"
  }
 },
 "nbformat": 4,
 "nbformat_minor": 2
}
