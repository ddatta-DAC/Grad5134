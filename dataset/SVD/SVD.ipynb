{
 "cells": [
  {
   "cell_type": "code",
   "execution_count": 1,
   "metadata": {
    "collapsed": true
   },
   "outputs": [],
   "source": [
    "import re\n",
    "import numpy as np\n",
    "from numpy.linalg import norm\n",
    "import matplotlib.pyplot as plt\n",
    "%matplotlib inline\n",
    "\n",
    "np.random.seed(0)"
   ]
  },
  {
   "cell_type": "markdown",
   "metadata": {},
   "source": [
    "## Read Data"
   ]
  },
  {
   "cell_type": "code",
   "execution_count": 2,
   "metadata": {},
   "outputs": [
    {
     "name": "stdout",
     "output_type": "stream",
     "text": [
      "uid,lid,_id\n",
      "\n",
      "5797 5157 63481\n"
     ]
    }
   ],
   "source": [
    "rate = []\n",
    "usr = {}\n",
    "itm = {}\n",
    "fp = open('../data/ratings.csv', 'r')\n",
    "for line in fp:\n",
    "    print line\n",
    "    break\n",
    "for line in fp:\n",
    "    arr = re.split(',', line[:-1])\n",
    "    usr[arr[0]] = 0\n",
    "    itm[arr[1]] = 0\n",
    "    rate.append([int(arr[0]), int(arr[1])])\n",
    "fp.close()\n",
    "n_usr = len(usr)\n",
    "n_itm = len(itm)\n",
    "print len(usr), len(itm), len(rate)"
   ]
  },
  {
   "cell_type": "markdown",
   "metadata": {},
   "source": [
    "## Training"
   ]
  },
  {
   "cell_type": "code",
   "execution_count": 10,
   "metadata": {
    "collapsed": true
   },
   "outputs": [],
   "source": [
    "rate_mat = np.zeros([n_usr, n_itm])\n",
    "for k in rate:\n",
    "    rate_mat[k[0]-1, k[1]-1] = 1.0\n",
    "U, S, V = np.linalg.svd(rate_mat, full_matrices=False)"
   ]
  },
  {
   "cell_type": "code",
   "execution_count": 17,
   "metadata": {},
   "outputs": [],
   "source": [
    "n_dim = 10\n",
    "S[n_dim::] = 0.0\n",
    "rate_new = np.dot(np.dot(U, np.diag(S)), V)\n",
    "np.save('rate_new', rate_new)"
   ]
  },
  {
   "cell_type": "code",
   "execution_count": null,
   "metadata": {
    "collapsed": true
   },
   "outputs": [],
   "source": []
  }
 ],
 "metadata": {
  "kernelspec": {
   "display_name": "Python 2",
   "language": "python",
   "name": "python2"
  },
  "language_info": {
   "codemirror_mode": {
    "name": "ipython",
    "version": 2
   },
   "file_extension": ".py",
   "mimetype": "text/x-python",
   "name": "python",
   "nbconvert_exporter": "python",
   "pygments_lexer": "ipython2",
   "version": "2.7.13"
  }
 },
 "nbformat": 4,
 "nbformat_minor": 2
}
